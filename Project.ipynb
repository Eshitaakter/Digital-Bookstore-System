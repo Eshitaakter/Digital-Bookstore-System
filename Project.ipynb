{
  "nbformat": 4,
  "nbformat_minor": 0,
  "metadata": {
    "colab": {
      "provenance": [],
      "authorship_tag": "ABX9TyP0Ym3ZjnmOVbFsVjgQFul2",
      "include_colab_link": true
    },
    "kernelspec": {
      "name": "python3",
      "display_name": "Python 3"
    },
    "language_info": {
      "name": "python"
    }
  },
  "cells": [
    {
      "cell_type": "markdown",
      "metadata": {
        "id": "view-in-github",
        "colab_type": "text"
      },
      "source": [
        "<a href=\"https://colab.research.google.com/github/Eshitaakter/Digital-Bookstore-System/blob/main/Project.ipynb\" target=\"_parent\"><img src=\"https://colab.research.google.com/assets/colab-badge.svg\" alt=\"Open In Colab\"/></a>"
      ]
    },
    {
      "cell_type": "code",
      "source": [
        "print(\"Project Title:Digital Bookstore System\")"
      ],
      "metadata": {
        "colab": {
          "base_uri": "https://localhost:8080/"
        },
        "id": "rrrpVG1VuI-o",
        "outputId": "dd09cec4-f186-45e1-d964-fe777e788423"
      },
      "execution_count": null,
      "outputs": [
        {
          "output_type": "stream",
          "name": "stdout",
          "text": [
            "Project Title:Digital Bookstore System\n"
          ]
        }
      ]
    },
    {
      "cell_type": "code",
      "source": [
        "import csv\n",
        "books = [\n",
        "    {\"Book ID\": 101, \"Title\": \"The Great Gatsby\", \"Author\": \"F. Scott Fitzgerald\", \"Genre\": \"Fiction\", \"Price\": 10.50, \"Stock\": 50, \"Rating\": 4.7},\n",
        "    {\"Book ID\": 102, \"Title\": \"To Kill a Mockingbird\", \"Author\": \"Harper Lee\", \"Genre\": \"Fiction\", \"Price\": 7.99, \"Stock\": 100, \"Rating\": 4.8},\n",
        "    {\"Book ID\": 103, \"Title\": \"Becoming\", \"Author\": \"Michelle Obama\", \"Genre\": \"Biography\", \"Price\": 15.99, \"Stock\": 75, \"Rating\": 4.9},\n",
        "    {\"Book ID\": 104, \"Title\": \"The Art of War\", \"Author\": \"Sun Tzu\", \"Genre\": \"Philosophy\", \"Price\": 5.99, \"Stock\": 30, \"Rating\": 4.4},\n",
        "    {\"Book ID\": 105, \"Title\": \"The Lean Startup\", \"Author\": \"Eric Ries\", \"Genre\": \"Business\", \"Price\": 12.99, \"Stock\": 25, \"Rating\": 4.3},\n",
        "    {\"Book ID\": 106, \"Title\": \"1984\", \"Author\": \"George Orwell\", \"Genre\": \"Sci-Fi\", \"Price\": 8.99, \"Stock\": 40, \"Rating\": 4.6},\n",
        "    {\"Book ID\": 107, \"Title\": \"The Catcher in the Rye\", \"Author\": \"J.D. Salinger\", \"Genre\": \"Fiction\", \"Price\": 6.99, \"Stock\": 60, \"Rating\": 4.2},\n",
        "    {\"Book ID\": 108, \"Title\": \"The Hobbit\", \"Author\": \"J.R.R. Tolkien\", \"Genre\": \"Fantasy\", \"Price\": 11.50, \"Stock\": 80, \"Rating\": 4.9},\n",
        "    {\"Book ID\": 109, \"Title\": \"Educated\", \"Author\": \"Tara Westover\", \"Genre\": \"Biography\", \"Price\": 13.99, \"Stock\": 50, \"Rating\": 4.8},\n",
        "    {\"Book ID\": 110, \"Title\": \"Atomic Habits\", \"Author\": \"James Clear\", \"Genre\": \"Self-help\", \"Price\": 16.99, \"Stock\": 100, \"Rating\": 4.7},\n",
        "]\n",
        "csv_file = \"books.csv\"\n",
        "fields = [\"Book ID\", \"Title\", \"Author\", \"Genre\", \"Price\", \"Stock\", \"Rating\"]\n",
        "\n",
        "with open(csv_file, mode=\"w\", newline=\"\") as file:\n",
        "    writer = csv.DictWriter(file, fieldnames=fields)\n",
        "    writer.writeheader()\n",
        "    writer.writerows(books)\n",
        "\n",
        "print(f\"'{csv_file}' created successfully.\")"
      ],
      "metadata": {
        "id": "bFBnYPuoubBC"
      },
      "execution_count": null,
      "outputs": []
    }
  ]
}